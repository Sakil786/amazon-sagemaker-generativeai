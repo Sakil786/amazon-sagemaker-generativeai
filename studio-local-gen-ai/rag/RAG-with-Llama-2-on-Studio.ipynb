{
 "cells": [
  {
   "cell_type": "markdown",
   "id": "797e87af-8a8e-4bae-836b-7398a281802f",
   "metadata": {
    "tags": []
   },
   "source": [
    "Pending items:\n",
    "1. Ensure Llama2 responses are full sentences\n",
    "2. Improve the QA Results with RAG in the notebook, at the moment it is giving back a lot of duplicates and missing some important ones\n",
    "\n",
    "3. Check for any other optimization"
   ]
  },
  {
   "cell_type": "markdown",
   "id": "6cdbbf41-b8ff-4395-bb3a-80717ffc5303",
   "metadata": {
    "tags": []
   },
   "source": [
    "## 01. Set-up"
   ]
  },
  {
   "cell_type": "markdown",
   "id": "d3664a39-3158-447a-88b2-cb5e9a81a8fa",
   "metadata": {
    "tags": []
   },
   "source": [
    "Install the required libriaries"
   ]
  },
  {
   "cell_type": "code",
   "execution_count": 13,
   "id": "1d771379-e7b4-4fe3-a2b0-64e6c783c3fe",
   "metadata": {
    "tags": []
   },
   "outputs": [
    {
     "name": "stdout",
     "output_type": "stream",
     "text": [
      "Overwriting requirements.txt\n"
     ]
    }
   ],
   "source": [
    "%%writefile requirements.txt\n",
    "torch==2.0.1\n",
    "#transformers==4.31\n",
    "accelerate==0.21.0\n",
    "bitsandbytes==0.40.2\n",
    "accelerate==0.21.0\n",
    "datasets==2.13.0\n",
    "langchain==0.0.297\n",
    "ipywidgets>=7,<8\n",
    "pypdf>=3.8,<4\n",
    "git+https://github.com/huggingface/transformers.git\n",
    "gpt4all \n",
    "chromadb\n",
    "langchainhub\n",
    "pinecone-client\n",
    "tiktoken\n",
    "sentence_transformers"
   ]
  },
  {
   "cell_type": "code",
   "execution_count": 14,
   "id": "d06a51b5-f307-48a7-aa0b-5ba2fac44f4f",
   "metadata": {
    "collapsed": true,
    "jupyter": {
     "outputs_hidden": true
    },
    "tags": []
   },
   "outputs": [
    {
     "name": "stderr",
     "output_type": "stream",
     "text": [
      "huggingface/tokenizers: The current process just got forked, after parallelism has already been used. Disabling parallelism to avoid deadlocks...\n",
      "To disable this warning, you can either:\n",
      "\t- Avoid using `tokenizers` before the fork if possible\n",
      "\t- Explicitly set the environment variable TOKENIZERS_PARALLELISM=(true | false)\n"
     ]
    },
    {
     "name": "stdout",
     "output_type": "stream",
     "text": [
      "Collecting git+https://github.com/huggingface/transformers.git (from -r requirements.txt (line 10))\n",
      "  Cloning https://github.com/huggingface/transformers.git to /tmp/pip-req-build-bnp1t14i\n",
      "  Running command git clone --filter=blob:none --quiet https://github.com/huggingface/transformers.git /tmp/pip-req-build-bnp1t14i\n",
      "  Resolved https://github.com/huggingface/transformers.git to commit e3a4bd2bee212a2d0fd9f03b27fe7bfc1debe42d\n",
      "  Installing build dependencies ... \u001b[?25ldone\n",
      "\u001b[?25h  Getting requirements to build wheel ... \u001b[?25ldone\n",
      "\u001b[?25h  Preparing metadata (pyproject.toml) ... \u001b[?25ldone\n",
      "\u001b[?25hRequirement already satisfied: torch==2.0.1 in /opt/conda/lib/python3.10/site-packages (from -r requirements.txt (line 1)) (2.0.1)\n",
      "Requirement already satisfied: accelerate==0.21.0 in /opt/conda/lib/python3.10/site-packages (from -r requirements.txt (line 3)) (0.21.0)\n",
      "Requirement already satisfied: bitsandbytes==0.40.2 in /opt/conda/lib/python3.10/site-packages (from -r requirements.txt (line 4)) (0.40.2)\n",
      "Requirement already satisfied: datasets==2.13.0 in /opt/conda/lib/python3.10/site-packages (from -r requirements.txt (line 6)) (2.13.0)\n",
      "Requirement already satisfied: langchain==0.0.297 in /opt/conda/lib/python3.10/site-packages (from -r requirements.txt (line 7)) (0.0.297)\n",
      "Requirement already satisfied: ipywidgets<8,>=7 in /opt/conda/lib/python3.10/site-packages (from -r requirements.txt (line 8)) (7.8.1)\n",
      "Requirement already satisfied: pypdf<4,>=3.8 in /opt/conda/lib/python3.10/site-packages (from -r requirements.txt (line 9)) (3.16.1)\n",
      "Requirement already satisfied: gpt4all in /opt/conda/lib/python3.10/site-packages (from -r requirements.txt (line 11)) (1.0.12)\n",
      "Requirement already satisfied: chromadb in /opt/conda/lib/python3.10/site-packages (from -r requirements.txt (line 12)) (0.4.12)\n",
      "Requirement already satisfied: langchainhub in /opt/conda/lib/python3.10/site-packages (from -r requirements.txt (line 13)) (0.1.13)\n",
      "Requirement already satisfied: pinecone-client in /opt/conda/lib/python3.10/site-packages (from -r requirements.txt (line 14)) (2.2.4)\n",
      "Requirement already satisfied: tiktoken in /opt/conda/lib/python3.10/site-packages (from -r requirements.txt (line 15)) (0.5.1)\n",
      "Requirement already satisfied: sentence_transformers in /opt/conda/lib/python3.10/site-packages (from -r requirements.txt (line 16)) (2.2.2)\n",
      "Requirement already satisfied: filelock in /opt/conda/lib/python3.10/site-packages (from torch==2.0.1->-r requirements.txt (line 1)) (3.6.0)\n",
      "Requirement already satisfied: typing-extensions in /opt/conda/lib/python3.10/site-packages (from torch==2.0.1->-r requirements.txt (line 1)) (4.8.0)\n",
      "Requirement already satisfied: sympy in /opt/conda/lib/python3.10/site-packages (from torch==2.0.1->-r requirements.txt (line 1)) (1.10.1)\n",
      "Requirement already satisfied: networkx in /opt/conda/lib/python3.10/site-packages (from torch==2.0.1->-r requirements.txt (line 1)) (2.8.4)\n",
      "Requirement already satisfied: jinja2 in /opt/conda/lib/python3.10/site-packages (from torch==2.0.1->-r requirements.txt (line 1)) (3.1.2)\n",
      "Requirement already satisfied: nvidia-cuda-nvrtc-cu11==11.7.99 in /opt/conda/lib/python3.10/site-packages (from torch==2.0.1->-r requirements.txt (line 1)) (11.7.99)\n",
      "Requirement already satisfied: nvidia-cuda-runtime-cu11==11.7.99 in /opt/conda/lib/python3.10/site-packages (from torch==2.0.1->-r requirements.txt (line 1)) (11.7.99)\n",
      "Requirement already satisfied: nvidia-cuda-cupti-cu11==11.7.101 in /opt/conda/lib/python3.10/site-packages (from torch==2.0.1->-r requirements.txt (line 1)) (11.7.101)\n",
      "Requirement already satisfied: nvidia-cudnn-cu11==8.5.0.96 in /opt/conda/lib/python3.10/site-packages (from torch==2.0.1->-r requirements.txt (line 1)) (8.5.0.96)\n",
      "Requirement already satisfied: nvidia-cublas-cu11==11.10.3.66 in /opt/conda/lib/python3.10/site-packages (from torch==2.0.1->-r requirements.txt (line 1)) (11.10.3.66)\n",
      "Requirement already satisfied: nvidia-cufft-cu11==10.9.0.58 in /opt/conda/lib/python3.10/site-packages (from torch==2.0.1->-r requirements.txt (line 1)) (10.9.0.58)\n",
      "Requirement already satisfied: nvidia-curand-cu11==10.2.10.91 in /opt/conda/lib/python3.10/site-packages (from torch==2.0.1->-r requirements.txt (line 1)) (10.2.10.91)\n",
      "Requirement already satisfied: nvidia-cusolver-cu11==11.4.0.1 in /opt/conda/lib/python3.10/site-packages (from torch==2.0.1->-r requirements.txt (line 1)) (11.4.0.1)\n",
      "Requirement already satisfied: nvidia-cusparse-cu11==11.7.4.91 in /opt/conda/lib/python3.10/site-packages (from torch==2.0.1->-r requirements.txt (line 1)) (11.7.4.91)\n",
      "Requirement already satisfied: nvidia-nccl-cu11==2.14.3 in /opt/conda/lib/python3.10/site-packages (from torch==2.0.1->-r requirements.txt (line 1)) (2.14.3)\n",
      "Requirement already satisfied: nvidia-nvtx-cu11==11.7.91 in /opt/conda/lib/python3.10/site-packages (from torch==2.0.1->-r requirements.txt (line 1)) (11.7.91)\n",
      "Requirement already satisfied: triton==2.0.0 in /opt/conda/lib/python3.10/site-packages (from torch==2.0.1->-r requirements.txt (line 1)) (2.0.0)\n",
      "Requirement already satisfied: numpy>=1.17 in /opt/conda/lib/python3.10/site-packages (from accelerate==0.21.0->-r requirements.txt (line 3)) (1.26.0)\n",
      "Requirement already satisfied: packaging>=20.0 in /opt/conda/lib/python3.10/site-packages (from accelerate==0.21.0->-r requirements.txt (line 3)) (23.1)\n",
      "Requirement already satisfied: psutil in /opt/conda/lib/python3.10/site-packages (from accelerate==0.21.0->-r requirements.txt (line 3)) (5.9.0)\n",
      "Requirement already satisfied: pyyaml in /opt/conda/lib/python3.10/site-packages (from accelerate==0.21.0->-r requirements.txt (line 3)) (6.0.1)\n",
      "Requirement already satisfied: pyarrow>=8.0.0 in /opt/conda/lib/python3.10/site-packages (from datasets==2.13.0->-r requirements.txt (line 6)) (13.0.0)\n",
      "Requirement already satisfied: dill<0.3.7,>=0.3.0 in /opt/conda/lib/python3.10/site-packages (from datasets==2.13.0->-r requirements.txt (line 6)) (0.3.6)\n",
      "Requirement already satisfied: pandas in /opt/conda/lib/python3.10/site-packages (from datasets==2.13.0->-r requirements.txt (line 6)) (1.4.4)\n",
      "Requirement already satisfied: requests>=2.19.0 in /opt/conda/lib/python3.10/site-packages (from datasets==2.13.0->-r requirements.txt (line 6)) (2.31.0)\n",
      "Requirement already satisfied: tqdm>=4.62.1 in /opt/conda/lib/python3.10/site-packages (from datasets==2.13.0->-r requirements.txt (line 6)) (4.66.1)\n",
      "Requirement already satisfied: xxhash in /opt/conda/lib/python3.10/site-packages (from datasets==2.13.0->-r requirements.txt (line 6)) (3.3.0)\n",
      "Requirement already satisfied: multiprocess in /opt/conda/lib/python3.10/site-packages (from datasets==2.13.0->-r requirements.txt (line 6)) (0.70.14)\n",
      "Requirement already satisfied: fsspec[http]>=2021.11.1 in /opt/conda/lib/python3.10/site-packages (from datasets==2.13.0->-r requirements.txt (line 6)) (2022.7.1)\n",
      "Requirement already satisfied: aiohttp in /opt/conda/lib/python3.10/site-packages (from datasets==2.13.0->-r requirements.txt (line 6)) (3.8.5)\n",
      "Requirement already satisfied: huggingface-hub<1.0.0,>=0.11.0 in /opt/conda/lib/python3.10/site-packages (from datasets==2.13.0->-r requirements.txt (line 6)) (0.16.4)\n",
      "Requirement already satisfied: SQLAlchemy<3,>=1.4 in /opt/conda/lib/python3.10/site-packages (from langchain==0.0.297->-r requirements.txt (line 7)) (2.0.21)\n",
      "Requirement already satisfied: async-timeout<5.0.0,>=4.0.0 in /opt/conda/lib/python3.10/site-packages (from langchain==0.0.297->-r requirements.txt (line 7)) (4.0.3)\n",
      "Requirement already satisfied: dataclasses-json<0.7,>=0.5.7 in /opt/conda/lib/python3.10/site-packages (from langchain==0.0.297->-r requirements.txt (line 7)) (0.6.0)\n",
      "Requirement already satisfied: langsmith<0.1.0,>=0.0.38 in /opt/conda/lib/python3.10/site-packages (from langchain==0.0.297->-r requirements.txt (line 7)) (0.0.39)\n",
      "Requirement already satisfied: numexpr<3.0.0,>=2.8.4 in /opt/conda/lib/python3.10/site-packages (from langchain==0.0.297->-r requirements.txt (line 7)) (2.8.6)\n",
      "Requirement already satisfied: pydantic<3,>=1 in /opt/conda/lib/python3.10/site-packages (from langchain==0.0.297->-r requirements.txt (line 7)) (2.3.0)\n",
      "Requirement already satisfied: tenacity<9.0.0,>=8.1.0 in /opt/conda/lib/python3.10/site-packages (from langchain==0.0.297->-r requirements.txt (line 7)) (8.2.3)\n",
      "Requirement already satisfied: setuptools in /opt/conda/lib/python3.10/site-packages (from nvidia-cublas-cu11==11.10.3.66->torch==2.0.1->-r requirements.txt (line 1)) (68.2.0)\n",
      "Requirement already satisfied: wheel in /opt/conda/lib/python3.10/site-packages (from nvidia-cublas-cu11==11.10.3.66->torch==2.0.1->-r requirements.txt (line 1)) (0.41.2)\n",
      "Requirement already satisfied: cmake in /opt/conda/lib/python3.10/site-packages (from triton==2.0.0->torch==2.0.1->-r requirements.txt (line 1)) (3.27.5)\n",
      "Requirement already satisfied: lit in /opt/conda/lib/python3.10/site-packages (from triton==2.0.0->torch==2.0.1->-r requirements.txt (line 1)) (16.0.6)\n",
      "Requirement already satisfied: comm>=0.1.3 in /opt/conda/lib/python3.10/site-packages (from ipywidgets<8,>=7->-r requirements.txt (line 8)) (0.1.4)\n",
      "Requirement already satisfied: ipython-genutils~=0.2.0 in /opt/conda/lib/python3.10/site-packages (from ipywidgets<8,>=7->-r requirements.txt (line 8)) (0.2.0)\n",
      "Requirement already satisfied: traitlets>=4.3.1 in /opt/conda/lib/python3.10/site-packages (from ipywidgets<8,>=7->-r requirements.txt (line 8)) (5.9.0)\n",
      "Requirement already satisfied: widgetsnbextension~=3.6.6 in /opt/conda/lib/python3.10/site-packages (from ipywidgets<8,>=7->-r requirements.txt (line 8)) (3.6.6)\n",
      "Requirement already satisfied: ipython>=4.0.0 in /opt/conda/lib/python3.10/site-packages (from ipywidgets<8,>=7->-r requirements.txt (line 8)) (8.15.0)\n",
      "Requirement already satisfied: jupyterlab-widgets<3,>=1.0.0 in /opt/conda/lib/python3.10/site-packages (from ipywidgets<8,>=7->-r requirements.txt (line 8)) (1.0.0)\n",
      "Requirement already satisfied: regex!=2019.12.17 in /opt/conda/lib/python3.10/site-packages (from transformers==4.34.0.dev0->-r requirements.txt (line 10)) (2022.7.9)\n",
      "Requirement already satisfied: tokenizers<0.15,>=0.14 in /opt/conda/lib/python3.10/site-packages (from transformers==4.34.0.dev0->-r requirements.txt (line 10)) (0.14.0)\n",
      "Requirement already satisfied: safetensors>=0.3.1 in /opt/conda/lib/python3.10/site-packages (from transformers==4.34.0.dev0->-r requirements.txt (line 10)) (0.3.3)\n",
      "Collecting pydantic<3,>=1 (from langchain==0.0.297->-r requirements.txt (line 7))\n",
      "  Obtaining dependency information for pydantic<3,>=1 from https://files.pythonhosted.org/packages/bc/e0/0371e9b6c910afe502e5fe18cc94562bfd9399617c7b4f5b6e13c29115b3/pydantic-1.10.12-cp310-cp310-manylinux_2_17_x86_64.manylinux2014_x86_64.whl.metadata\n",
      "  Using cached pydantic-1.10.12-cp310-cp310-manylinux_2_17_x86_64.manylinux2014_x86_64.whl.metadata (149 kB)\n",
      "Requirement already satisfied: chroma-hnswlib==0.7.3 in /opt/conda/lib/python3.10/site-packages (from chromadb->-r requirements.txt (line 12)) (0.7.3)\n",
      "Requirement already satisfied: fastapi<0.100.0,>=0.95.2 in /opt/conda/lib/python3.10/site-packages (from chromadb->-r requirements.txt (line 12)) (0.99.1)\n",
      "Requirement already satisfied: uvicorn[standard]>=0.18.3 in /opt/conda/lib/python3.10/site-packages (from chromadb->-r requirements.txt (line 12)) (0.23.2)\n",
      "Requirement already satisfied: posthog>=2.4.0 in /opt/conda/lib/python3.10/site-packages (from chromadb->-r requirements.txt (line 12)) (3.0.2)\n",
      "Requirement already satisfied: pulsar-client>=3.1.0 in /opt/conda/lib/python3.10/site-packages (from chromadb->-r requirements.txt (line 12)) (3.3.0)\n",
      "Requirement already satisfied: onnxruntime>=1.14.1 in /opt/conda/lib/python3.10/site-packages (from chromadb->-r requirements.txt (line 12)) (1.16.0)\n",
      "Requirement already satisfied: pypika>=0.48.9 in /opt/conda/lib/python3.10/site-packages (from chromadb->-r requirements.txt (line 12)) (0.48.9)\n",
      "Requirement already satisfied: overrides>=7.3.1 in /opt/conda/lib/python3.10/site-packages (from chromadb->-r requirements.txt (line 12)) (7.4.0)\n",
      "Requirement already satisfied: importlib-resources in /opt/conda/lib/python3.10/site-packages (from chromadb->-r requirements.txt (line 12)) (6.0.1)\n",
      "Requirement already satisfied: bcrypt>=4.0.1 in /opt/conda/lib/python3.10/site-packages (from chromadb->-r requirements.txt (line 12)) (4.0.1)\n",
      "Requirement already satisfied: typer>=0.9.0 in /opt/conda/lib/python3.10/site-packages (from chromadb->-r requirements.txt (line 12)) (0.9.0)\n",
      "Requirement already satisfied: types-requests<3.0.0.0,>=2.31.0.2 in /opt/conda/lib/python3.10/site-packages (from langchainhub->-r requirements.txt (line 13)) (2.31.0.2)\n",
      "Requirement already satisfied: loguru>=0.5.0 in /opt/conda/lib/python3.10/site-packages (from pinecone-client->-r requirements.txt (line 14)) (0.7.2)\n",
      "Requirement already satisfied: dnspython>=2.0.0 in /opt/conda/lib/python3.10/site-packages (from pinecone-client->-r requirements.txt (line 14)) (2.4.2)\n",
      "Requirement already satisfied: python-dateutil>=2.5.3 in /opt/conda/lib/python3.10/site-packages (from pinecone-client->-r requirements.txt (line 14)) (2.8.2)\n",
      "Requirement already satisfied: urllib3>=1.21.1 in /opt/conda/lib/python3.10/site-packages (from pinecone-client->-r requirements.txt (line 14)) (2.0.5)\n",
      "Requirement already satisfied: torchvision in /opt/conda/lib/python3.10/site-packages (from sentence_transformers->-r requirements.txt (line 16)) (0.15.2)\n",
      "Requirement already satisfied: scikit-learn in /opt/conda/lib/python3.10/site-packages (from sentence_transformers->-r requirements.txt (line 16)) (1.0.1)\n",
      "Requirement already satisfied: scipy in /opt/conda/lib/python3.10/site-packages (from sentence_transformers->-r requirements.txt (line 16)) (1.11.2)\n",
      "Requirement already satisfied: nltk in /opt/conda/lib/python3.10/site-packages (from sentence_transformers->-r requirements.txt (line 16)) (3.7)\n",
      "Requirement already satisfied: sentencepiece in /opt/conda/lib/python3.10/site-packages (from sentence_transformers->-r requirements.txt (line 16)) (0.1.99)\n",
      "Requirement already satisfied: attrs>=17.3.0 in /opt/conda/lib/python3.10/site-packages (from aiohttp->datasets==2.13.0->-r requirements.txt (line 6)) (23.1.0)\n",
      "Requirement already satisfied: charset-normalizer<4.0,>=2.0 in /opt/conda/lib/python3.10/site-packages (from aiohttp->datasets==2.13.0->-r requirements.txt (line 6)) (3.2.0)\n",
      "Requirement already satisfied: multidict<7.0,>=4.5 in /opt/conda/lib/python3.10/site-packages (from aiohttp->datasets==2.13.0->-r requirements.txt (line 6)) (6.0.4)\n",
      "Requirement already satisfied: yarl<2.0,>=1.0 in /opt/conda/lib/python3.10/site-packages (from aiohttp->datasets==2.13.0->-r requirements.txt (line 6)) (1.9.2)\n",
      "Requirement already satisfied: frozenlist>=1.1.1 in /opt/conda/lib/python3.10/site-packages (from aiohttp->datasets==2.13.0->-r requirements.txt (line 6)) (1.4.0)\n",
      "Requirement already satisfied: aiosignal>=1.1.2 in /opt/conda/lib/python3.10/site-packages (from aiohttp->datasets==2.13.0->-r requirements.txt (line 6)) (1.3.1)\n",
      "Requirement already satisfied: marshmallow<4.0.0,>=3.18.0 in /opt/conda/lib/python3.10/site-packages (from dataclasses-json<0.7,>=0.5.7->langchain==0.0.297->-r requirements.txt (line 7)) (3.20.1)\n",
      "Requirement already satisfied: typing-inspect<1,>=0.4.0 in /opt/conda/lib/python3.10/site-packages (from dataclasses-json<0.7,>=0.5.7->langchain==0.0.297->-r requirements.txt (line 7)) (0.9.0)\n",
      "Requirement already satisfied: starlette<0.28.0,>=0.27.0 in /opt/conda/lib/python3.10/site-packages (from fastapi<0.100.0,>=0.95.2->chromadb->-r requirements.txt (line 12)) (0.27.0)\n",
      "Requirement already satisfied: backcall in /opt/conda/lib/python3.10/site-packages (from ipython>=4.0.0->ipywidgets<8,>=7->-r requirements.txt (line 8)) (0.2.0)\n",
      "Requirement already satisfied: decorator in /opt/conda/lib/python3.10/site-packages (from ipython>=4.0.0->ipywidgets<8,>=7->-r requirements.txt (line 8)) (5.1.1)\n",
      "Requirement already satisfied: jedi>=0.16 in /opt/conda/lib/python3.10/site-packages (from ipython>=4.0.0->ipywidgets<8,>=7->-r requirements.txt (line 8)) (0.18.1)\n",
      "Requirement already satisfied: matplotlib-inline in /opt/conda/lib/python3.10/site-packages (from ipython>=4.0.0->ipywidgets<8,>=7->-r requirements.txt (line 8)) (0.1.6)\n",
      "Requirement already satisfied: pickleshare in /opt/conda/lib/python3.10/site-packages (from ipython>=4.0.0->ipywidgets<8,>=7->-r requirements.txt (line 8)) (0.7.5)\n",
      "Requirement already satisfied: prompt-toolkit!=3.0.37,<3.1.0,>=3.0.30 in /opt/conda/lib/python3.10/site-packages (from ipython>=4.0.0->ipywidgets<8,>=7->-r requirements.txt (line 8)) (3.0.39)\n",
      "Requirement already satisfied: pygments>=2.4.0 in /opt/conda/lib/python3.10/site-packages (from ipython>=4.0.0->ipywidgets<8,>=7->-r requirements.txt (line 8)) (2.16.1)\n",
      "Requirement already satisfied: stack-data in /opt/conda/lib/python3.10/site-packages (from ipython>=4.0.0->ipywidgets<8,>=7->-r requirements.txt (line 8)) (0.6.2)\n",
      "Requirement already satisfied: exceptiongroup in /opt/conda/lib/python3.10/site-packages (from ipython>=4.0.0->ipywidgets<8,>=7->-r requirements.txt (line 8)) (1.1.3)\n",
      "Requirement already satisfied: pexpect>4.3 in /opt/conda/lib/python3.10/site-packages (from ipython>=4.0.0->ipywidgets<8,>=7->-r requirements.txt (line 8)) (4.8.0)\n",
      "Requirement already satisfied: coloredlogs in /opt/conda/lib/python3.10/site-packages (from onnxruntime>=1.14.1->chromadb->-r requirements.txt (line 12)) (15.0.1)\n",
      "Requirement already satisfied: flatbuffers in /opt/conda/lib/python3.10/site-packages (from onnxruntime>=1.14.1->chromadb->-r requirements.txt (line 12)) (23.5.26)\n",
      "Requirement already satisfied: protobuf in /opt/conda/lib/python3.10/site-packages (from onnxruntime>=1.14.1->chromadb->-r requirements.txt (line 12)) (4.24.3)\n",
      "Requirement already satisfied: six>=1.5 in /opt/conda/lib/python3.10/site-packages (from posthog>=2.4.0->chromadb->-r requirements.txt (line 12)) (1.16.0)\n",
      "Requirement already satisfied: monotonic>=1.5 in /opt/conda/lib/python3.10/site-packages (from posthog>=2.4.0->chromadb->-r requirements.txt (line 12)) (1.6)\n",
      "Requirement already satisfied: backoff>=1.10.0 in /opt/conda/lib/python3.10/site-packages (from posthog>=2.4.0->chromadb->-r requirements.txt (line 12)) (2.2.1)\n",
      "Requirement already satisfied: certifi in /opt/conda/lib/python3.10/site-packages (from pulsar-client>=3.1.0->chromadb->-r requirements.txt (line 12)) (2023.7.22)\n",
      "Requirement already satisfied: idna<4,>=2.5 in /opt/conda/lib/python3.10/site-packages (from requests>=2.19.0->datasets==2.13.0->-r requirements.txt (line 6)) (3.4)\n",
      "Requirement already satisfied: greenlet!=0.4.17 in /opt/conda/lib/python3.10/site-packages (from SQLAlchemy<3,>=1.4->langchain==0.0.297->-r requirements.txt (line 7)) (2.0.2)\n",
      "Requirement already satisfied: click<9.0.0,>=7.1.1 in /opt/conda/lib/python3.10/site-packages (from typer>=0.9.0->chromadb->-r requirements.txt (line 12)) (8.1.7)\n",
      "Requirement already satisfied: types-urllib3 in /opt/conda/lib/python3.10/site-packages (from types-requests<3.0.0.0,>=2.31.0.2->langchainhub->-r requirements.txt (line 13)) (1.26.25.14)\n",
      "Requirement already satisfied: h11>=0.8 in /opt/conda/lib/python3.10/site-packages (from uvicorn[standard]>=0.18.3->chromadb->-r requirements.txt (line 12)) (0.14.0)\n",
      "Requirement already satisfied: httptools>=0.5.0 in /opt/conda/lib/python3.10/site-packages (from uvicorn[standard]>=0.18.3->chromadb->-r requirements.txt (line 12)) (0.6.0)\n",
      "Requirement already satisfied: python-dotenv>=0.13 in /opt/conda/lib/python3.10/site-packages (from uvicorn[standard]>=0.18.3->chromadb->-r requirements.txt (line 12)) (1.0.0)\n",
      "Requirement already satisfied: uvloop!=0.15.0,!=0.15.1,>=0.14.0 in /opt/conda/lib/python3.10/site-packages (from uvicorn[standard]>=0.18.3->chromadb->-r requirements.txt (line 12)) (0.17.0)\n",
      "Requirement already satisfied: watchfiles>=0.13 in /opt/conda/lib/python3.10/site-packages (from uvicorn[standard]>=0.18.3->chromadb->-r requirements.txt (line 12)) (0.20.0)\n",
      "Requirement already satisfied: websockets>=10.4 in /opt/conda/lib/python3.10/site-packages (from uvicorn[standard]>=0.18.3->chromadb->-r requirements.txt (line 12)) (11.0.3)\n",
      "Requirement already satisfied: notebook>=4.4.1 in /opt/conda/lib/python3.10/site-packages (from widgetsnbextension~=3.6.6->ipywidgets<8,>=7->-r requirements.txt (line 8)) (6.5.5)\n",
      "Requirement already satisfied: MarkupSafe>=2.0 in /opt/conda/lib/python3.10/site-packages (from jinja2->torch==2.0.1->-r requirements.txt (line 1)) (2.1.3)\n",
      "Requirement already satisfied: joblib in /opt/conda/lib/python3.10/site-packages (from nltk->sentence_transformers->-r requirements.txt (line 16)) (1.3.2)\n",
      "Requirement already satisfied: pytz>=2020.1 in /opt/conda/lib/python3.10/site-packages (from pandas->datasets==2.13.0->-r requirements.txt (line 6)) (2022.1)\n",
      "Requirement already satisfied: threadpoolctl>=2.0.0 in /opt/conda/lib/python3.10/site-packages (from scikit-learn->sentence_transformers->-r requirements.txt (line 16)) (2.2.0)\n",
      "Requirement already satisfied: mpmath>=0.19 in /opt/conda/lib/python3.10/site-packages (from sympy->torch==2.0.1->-r requirements.txt (line 1)) (1.3.0)\n",
      "Requirement already satisfied: pillow!=8.3.*,>=5.3.0 in /opt/conda/lib/python3.10/site-packages (from torchvision->sentence_transformers->-r requirements.txt (line 16)) (10.0.0)\n",
      "Requirement already satisfied: parso<0.9.0,>=0.8.0 in /opt/conda/lib/python3.10/site-packages (from jedi>=0.16->ipython>=4.0.0->ipywidgets<8,>=7->-r requirements.txt (line 8)) (0.8.3)\n",
      "Requirement already satisfied: tornado>=6.1 in /opt/conda/lib/python3.10/site-packages (from notebook>=4.4.1->widgetsnbextension~=3.6.6->ipywidgets<8,>=7->-r requirements.txt (line 8)) (6.3.3)\n",
      "Requirement already satisfied: pyzmq<25,>=17 in /opt/conda/lib/python3.10/site-packages (from notebook>=4.4.1->widgetsnbextension~=3.6.6->ipywidgets<8,>=7->-r requirements.txt (line 8)) (24.0.1)\n",
      "Requirement already satisfied: argon2-cffi in /opt/conda/lib/python3.10/site-packages (from notebook>=4.4.1->widgetsnbextension~=3.6.6->ipywidgets<8,>=7->-r requirements.txt (line 8)) (21.3.0)\n",
      "Requirement already satisfied: jupyter-core>=4.6.1 in /opt/conda/lib/python3.10/site-packages (from notebook>=4.4.1->widgetsnbextension~=3.6.6->ipywidgets<8,>=7->-r requirements.txt (line 8)) (5.3.1)\n",
      "Requirement already satisfied: jupyter-client<8,>=5.3.4 in /opt/conda/lib/python3.10/site-packages (from notebook>=4.4.1->widgetsnbextension~=3.6.6->ipywidgets<8,>=7->-r requirements.txt (line 8)) (7.4.9)\n",
      "Requirement already satisfied: nbformat in /opt/conda/lib/python3.10/site-packages (from notebook>=4.4.1->widgetsnbextension~=3.6.6->ipywidgets<8,>=7->-r requirements.txt (line 8)) (5.9.2)\n",
      "Requirement already satisfied: nbconvert>=5 in /opt/conda/lib/python3.10/site-packages (from notebook>=4.4.1->widgetsnbextension~=3.6.6->ipywidgets<8,>=7->-r requirements.txt (line 8)) (7.8.0)\n",
      "Requirement already satisfied: nest-asyncio>=1.5 in /opt/conda/lib/python3.10/site-packages (from notebook>=4.4.1->widgetsnbextension~=3.6.6->ipywidgets<8,>=7->-r requirements.txt (line 8)) (1.5.5)\n",
      "Requirement already satisfied: ipykernel in /opt/conda/lib/python3.10/site-packages (from notebook>=4.4.1->widgetsnbextension~=3.6.6->ipywidgets<8,>=7->-r requirements.txt (line 8)) (6.20.2)\n",
      "Requirement already satisfied: Send2Trash>=1.8.0 in /opt/conda/lib/python3.10/site-packages (from notebook>=4.4.1->widgetsnbextension~=3.6.6->ipywidgets<8,>=7->-r requirements.txt (line 8)) (1.8.2)\n",
      "Requirement already satisfied: terminado>=0.8.3 in /opt/conda/lib/python3.10/site-packages (from notebook>=4.4.1->widgetsnbextension~=3.6.6->ipywidgets<8,>=7->-r requirements.txt (line 8)) (0.13.1)\n",
      "Requirement already satisfied: prometheus-client in /opt/conda/lib/python3.10/site-packages (from notebook>=4.4.1->widgetsnbextension~=3.6.6->ipywidgets<8,>=7->-r requirements.txt (line 8)) (0.14.1)\n",
      "Requirement already satisfied: nbclassic>=0.4.7 in /opt/conda/lib/python3.10/site-packages (from notebook>=4.4.1->widgetsnbextension~=3.6.6->ipywidgets<8,>=7->-r requirements.txt (line 8)) (1.0.0)\n",
      "Requirement already satisfied: ptyprocess>=0.5 in /opt/conda/lib/python3.10/site-packages (from pexpect>4.3->ipython>=4.0.0->ipywidgets<8,>=7->-r requirements.txt (line 8)) (0.7.0)\n",
      "Requirement already satisfied: wcwidth in /opt/conda/lib/python3.10/site-packages (from prompt-toolkit!=3.0.37,<3.1.0,>=3.0.30->ipython>=4.0.0->ipywidgets<8,>=7->-r requirements.txt (line 8)) (0.2.5)\n",
      "Requirement already satisfied: anyio<5,>=3.4.0 in /opt/conda/lib/python3.10/site-packages (from starlette<0.28.0,>=0.27.0->fastapi<0.100.0,>=0.95.2->chromadb->-r requirements.txt (line 12)) (3.5.0)\n",
      "Requirement already satisfied: mypy-extensions>=0.3.0 in /opt/conda/lib/python3.10/site-packages (from typing-inspect<1,>=0.4.0->dataclasses-json<0.7,>=0.5.7->langchain==0.0.297->-r requirements.txt (line 7)) (1.0.0)\n",
      "Requirement already satisfied: humanfriendly>=9.1 in /opt/conda/lib/python3.10/site-packages (from coloredlogs->onnxruntime>=1.14.1->chromadb->-r requirements.txt (line 12)) (10.0)\n",
      "Requirement already satisfied: executing>=1.2.0 in /opt/conda/lib/python3.10/site-packages (from stack-data->ipython>=4.0.0->ipywidgets<8,>=7->-r requirements.txt (line 8)) (1.2.0)\n",
      "Requirement already satisfied: asttokens>=2.1.0 in /opt/conda/lib/python3.10/site-packages (from stack-data->ipython>=4.0.0->ipywidgets<8,>=7->-r requirements.txt (line 8)) (2.4.0)\n",
      "Requirement already satisfied: pure-eval in /opt/conda/lib/python3.10/site-packages (from stack-data->ipython>=4.0.0->ipywidgets<8,>=7->-r requirements.txt (line 8)) (0.2.2)\n",
      "Requirement already satisfied: sniffio>=1.1 in /opt/conda/lib/python3.10/site-packages (from anyio<5,>=3.4.0->starlette<0.28.0,>=0.27.0->fastapi<0.100.0,>=0.95.2->chromadb->-r requirements.txt (line 12)) (1.2.0)\n",
      "Requirement already satisfied: entrypoints in /opt/conda/lib/python3.10/site-packages (from jupyter-client<8,>=5.3.4->notebook>=4.4.1->widgetsnbextension~=3.6.6->ipywidgets<8,>=7->-r requirements.txt (line 8)) (0.4)\n",
      "Requirement already satisfied: platformdirs>=2.5 in /opt/conda/lib/python3.10/site-packages (from jupyter-core>=4.6.1->notebook>=4.4.1->widgetsnbextension~=3.6.6->ipywidgets<8,>=7->-r requirements.txt (line 8)) (2.5.2)\n",
      "Requirement already satisfied: jupyter-server>=1.8 in /opt/conda/lib/python3.10/site-packages (from nbclassic>=0.4.7->notebook>=4.4.1->widgetsnbextension~=3.6.6->ipywidgets<8,>=7->-r requirements.txt (line 8)) (2.7.3)\n",
      "Requirement already satisfied: notebook-shim>=0.2.3 in /opt/conda/lib/python3.10/site-packages (from nbclassic>=0.4.7->notebook>=4.4.1->widgetsnbextension~=3.6.6->ipywidgets<8,>=7->-r requirements.txt (line 8)) (0.2.3)\n",
      "Requirement already satisfied: beautifulsoup4 in /opt/conda/lib/python3.10/site-packages (from nbconvert>=5->notebook>=4.4.1->widgetsnbextension~=3.6.6->ipywidgets<8,>=7->-r requirements.txt (line 8)) (4.11.1)\n",
      "Requirement already satisfied: bleach!=5.0.0 in /opt/conda/lib/python3.10/site-packages (from nbconvert>=5->notebook>=4.4.1->widgetsnbextension~=3.6.6->ipywidgets<8,>=7->-r requirements.txt (line 8)) (4.1.0)\n",
      "Requirement already satisfied: defusedxml in /opt/conda/lib/python3.10/site-packages (from nbconvert>=5->notebook>=4.4.1->widgetsnbextension~=3.6.6->ipywidgets<8,>=7->-r requirements.txt (line 8)) (0.7.1)\n",
      "Requirement already satisfied: jupyterlab-pygments in /opt/conda/lib/python3.10/site-packages (from nbconvert>=5->notebook>=4.4.1->widgetsnbextension~=3.6.6->ipywidgets<8,>=7->-r requirements.txt (line 8)) (0.1.2)\n",
      "Requirement already satisfied: mistune<4,>=2.0.3 in /opt/conda/lib/python3.10/site-packages (from nbconvert>=5->notebook>=4.4.1->widgetsnbextension~=3.6.6->ipywidgets<8,>=7->-r requirements.txt (line 8)) (3.0.1)\n",
      "Requirement already satisfied: nbclient>=0.5.0 in /opt/conda/lib/python3.10/site-packages (from nbconvert>=5->notebook>=4.4.1->widgetsnbextension~=3.6.6->ipywidgets<8,>=7->-r requirements.txt (line 8)) (0.5.13)\n",
      "Requirement already satisfied: pandocfilters>=1.4.1 in /opt/conda/lib/python3.10/site-packages (from nbconvert>=5->notebook>=4.4.1->widgetsnbextension~=3.6.6->ipywidgets<8,>=7->-r requirements.txt (line 8)) (1.5.0)\n",
      "Requirement already satisfied: tinycss2 in /opt/conda/lib/python3.10/site-packages (from nbconvert>=5->notebook>=4.4.1->widgetsnbextension~=3.6.6->ipywidgets<8,>=7->-r requirements.txt (line 8)) (1.2.1)\n",
      "Requirement already satisfied: fastjsonschema in /opt/conda/lib/python3.10/site-packages (from nbformat->notebook>=4.4.1->widgetsnbextension~=3.6.6->ipywidgets<8,>=7->-r requirements.txt (line 8)) (2.16.2)\n",
      "Requirement already satisfied: jsonschema>=2.6 in /opt/conda/lib/python3.10/site-packages (from nbformat->notebook>=4.4.1->widgetsnbextension~=3.6.6->ipywidgets<8,>=7->-r requirements.txt (line 8)) (4.19.0)\n",
      "Requirement already satisfied: argon2-cffi-bindings in /opt/conda/lib/python3.10/site-packages (from argon2-cffi->notebook>=4.4.1->widgetsnbextension~=3.6.6->ipywidgets<8,>=7->-r requirements.txt (line 8)) (21.2.0)\n",
      "Requirement already satisfied: debugpy>=1.0 in /opt/conda/lib/python3.10/site-packages (from ipykernel->notebook>=4.4.1->widgetsnbextension~=3.6.6->ipywidgets<8,>=7->-r requirements.txt (line 8)) (1.5.1)\n",
      "Requirement already satisfied: webencodings in /opt/conda/lib/python3.10/site-packages (from bleach!=5.0.0->nbconvert>=5->notebook>=4.4.1->widgetsnbextension~=3.6.6->ipywidgets<8,>=7->-r requirements.txt (line 8)) (0.5.1)\n",
      "Requirement already satisfied: jsonschema-specifications>=2023.03.6 in /opt/conda/lib/python3.10/site-packages (from jsonschema>=2.6->nbformat->notebook>=4.4.1->widgetsnbextension~=3.6.6->ipywidgets<8,>=7->-r requirements.txt (line 8)) (2023.7.1)\n",
      "Requirement already satisfied: referencing>=0.28.4 in /opt/conda/lib/python3.10/site-packages (from jsonschema>=2.6->nbformat->notebook>=4.4.1->widgetsnbextension~=3.6.6->ipywidgets<8,>=7->-r requirements.txt (line 8)) (0.30.2)\n",
      "Requirement already satisfied: rpds-py>=0.7.1 in /opt/conda/lib/python3.10/site-packages (from jsonschema>=2.6->nbformat->notebook>=4.4.1->widgetsnbextension~=3.6.6->ipywidgets<8,>=7->-r requirements.txt (line 8)) (0.10.2)\n",
      "Requirement already satisfied: jupyter-events>=0.6.0 in /opt/conda/lib/python3.10/site-packages (from jupyter-server>=1.8->nbclassic>=0.4.7->notebook>=4.4.1->widgetsnbextension~=3.6.6->ipywidgets<8,>=7->-r requirements.txt (line 8)) (0.7.0)\n",
      "Requirement already satisfied: jupyter-server-terminals in /opt/conda/lib/python3.10/site-packages (from jupyter-server>=1.8->nbclassic>=0.4.7->notebook>=4.4.1->widgetsnbextension~=3.6.6->ipywidgets<8,>=7->-r requirements.txt (line 8)) (0.4.4)\n",
      "Requirement already satisfied: websocket-client in /opt/conda/lib/python3.10/site-packages (from jupyter-server>=1.8->nbclassic>=0.4.7->notebook>=4.4.1->widgetsnbextension~=3.6.6->ipywidgets<8,>=7->-r requirements.txt (line 8)) (0.58.0)\n",
      "Requirement already satisfied: cffi>=1.0.1 in /opt/conda/lib/python3.10/site-packages (from argon2-cffi-bindings->argon2-cffi->notebook>=4.4.1->widgetsnbextension~=3.6.6->ipywidgets<8,>=7->-r requirements.txt (line 8)) (1.15.1)\n",
      "Requirement already satisfied: soupsieve>1.2 in /opt/conda/lib/python3.10/site-packages (from beautifulsoup4->nbconvert>=5->notebook>=4.4.1->widgetsnbextension~=3.6.6->ipywidgets<8,>=7->-r requirements.txt (line 8)) (2.3.1)\n",
      "Requirement already satisfied: pycparser in /opt/conda/lib/python3.10/site-packages (from cffi>=1.0.1->argon2-cffi-bindings->argon2-cffi->notebook>=4.4.1->widgetsnbextension~=3.6.6->ipywidgets<8,>=7->-r requirements.txt (line 8)) (2.21)\n",
      "Requirement already satisfied: python-json-logger>=2.0.4 in /opt/conda/lib/python3.10/site-packages (from jupyter-events>=0.6.0->jupyter-server>=1.8->nbclassic>=0.4.7->notebook>=4.4.1->widgetsnbextension~=3.6.6->ipywidgets<8,>=7->-r requirements.txt (line 8)) (2.0.7)\n",
      "Requirement already satisfied: rfc3339-validator in /opt/conda/lib/python3.10/site-packages (from jupyter-events>=0.6.0->jupyter-server>=1.8->nbclassic>=0.4.7->notebook>=4.4.1->widgetsnbextension~=3.6.6->ipywidgets<8,>=7->-r requirements.txt (line 8)) (0.1.4)\n",
      "Requirement already satisfied: rfc3986-validator>=0.1.1 in /opt/conda/lib/python3.10/site-packages (from jupyter-events>=0.6.0->jupyter-server>=1.8->nbclassic>=0.4.7->notebook>=4.4.1->widgetsnbextension~=3.6.6->ipywidgets<8,>=7->-r requirements.txt (line 8)) (0.1.1)\n",
      "Requirement already satisfied: fqdn in /opt/conda/lib/python3.10/site-packages (from jsonschema>=2.6->nbformat->notebook>=4.4.1->widgetsnbextension~=3.6.6->ipywidgets<8,>=7->-r requirements.txt (line 8)) (1.5.1)\n",
      "Requirement already satisfied: isoduration in /opt/conda/lib/python3.10/site-packages (from jsonschema>=2.6->nbformat->notebook>=4.4.1->widgetsnbextension~=3.6.6->ipywidgets<8,>=7->-r requirements.txt (line 8)) (20.11.0)\n",
      "Requirement already satisfied: jsonpointer>1.13 in /opt/conda/lib/python3.10/site-packages (from jsonschema>=2.6->nbformat->notebook>=4.4.1->widgetsnbextension~=3.6.6->ipywidgets<8,>=7->-r requirements.txt (line 8)) (2.1)\n",
      "Requirement already satisfied: uri-template in /opt/conda/lib/python3.10/site-packages (from jsonschema>=2.6->nbformat->notebook>=4.4.1->widgetsnbextension~=3.6.6->ipywidgets<8,>=7->-r requirements.txt (line 8)) (1.3.0)\n",
      "Requirement already satisfied: webcolors>=1.11 in /opt/conda/lib/python3.10/site-packages (from jsonschema>=2.6->nbformat->notebook>=4.4.1->widgetsnbextension~=3.6.6->ipywidgets<8,>=7->-r requirements.txt (line 8)) (1.13)\n",
      "Requirement already satisfied: arrow>=0.15.0 in /opt/conda/lib/python3.10/site-packages (from isoduration->jsonschema>=2.6->nbformat->notebook>=4.4.1->widgetsnbextension~=3.6.6->ipywidgets<8,>=7->-r requirements.txt (line 8)) (1.2.2)\n",
      "Using cached pydantic-1.10.12-cp310-cp310-manylinux_2_17_x86_64.manylinux2014_x86_64.whl (3.1 MB)\n",
      "Installing collected packages: pydantic\n",
      "  Attempting uninstall: pydantic\n",
      "    Found existing installation: pydantic 2.3.0\n",
      "    Uninstalling pydantic-2.3.0:\n",
      "      Successfully uninstalled pydantic-2.3.0\n",
      "Successfully installed pydantic-1.10.12\n",
      "\u001b[33mWARNING: Running pip as the 'root' user can result in broken permissions and conflicting behaviour with the system package manager. It is recommended to use a virtual environment instead: https://pip.pypa.io/warnings/venv\u001b[0m\u001b[33m\n",
      "\u001b[0m"
     ]
    }
   ],
   "source": [
    "!pip install -U -r requirements.txt"
   ]
  },
  {
   "cell_type": "code",
   "execution_count": 15,
   "id": "14c96bb5-a3be-45ce-b38b-95c2523a6a72",
   "metadata": {},
   "outputs": [],
   "source": [
    "import torch\n",
    "import os\n",
    "import nvidia\n",
    "\n",
    "if not torch.cuda.is_available():\n",
    "    print(\"Please use a compute instance with at least 1 GPU of XGB memory to run this notebok\")\n",
    "else:\n",
    "    cuda_install_dir = '/'.join(nvidia.__file__.split('/')[:-1]) + '/cuda_runtime/lib/'\n",
    "    os.environ['LD_LIBRARY_PATH'] =  cuda_install_dir"
   ]
  },
  {
   "cell_type": "markdown",
   "id": "c39e1778-d2e5-41a4-b6db-c377cdbafba8",
   "metadata": {
    "tags": []
   },
   "source": [
    "## 02. Prompt Llama-2 in the notebook"
   ]
  },
  {
   "cell_type": "code",
   "execution_count": 111,
   "id": "0b3b0694-aacd-4d7f-9792-ba416dcfdf24",
   "metadata": {
    "tags": []
   },
   "outputs": [],
   "source": [
    "from transformers import AutoTokenizer, LlamaForCausalLM, GenerationConfig,AutoModelForCausalLM\n",
    "import transformers\n",
    "\n",
    "model_id = \"NousResearch/Llama-2-7b-chat-hf\" #the model id in Hugging Face\n",
    "model_path = f\"./model/{model_id}\" #the local directory where the model will be saved\n",
    "\n",
    "question = \"How is UK home office driving down crime in 2023?\"\n"
   ]
  },
  {
   "cell_type": "markdown",
   "id": "cfb00693-1419-440d-9792-95b9859395c8",
   "metadata": {
    "tags": []
   },
   "source": [
    "Download the model from the Hugging Face hub or load it from the local directory if it's already downloaded"
   ]
  },
  {
   "cell_type": "code",
   "execution_count": 91,
   "id": "b8f69641-86ac-4532-92d1-19b7ce4b46a9",
   "metadata": {},
   "outputs": [],
   "source": [
    "if  not (os.path.exists(model_path)) or os.listdir(model_path and model_path) == []:\n",
    "    model = LlamaForCausalLM.from_pretrained(model_id, device_map=\"auto\", do_sample=True, use_safetensors=True, load_in_8bit=True,torch_dtype=torch.float16)\n",
    "    model.generation_config = GenerationConfig(\n",
    "        do_sample=True,\n",
    "        temperature=0.1,\n",
    "        top_p=0.75,\n",
    "        top_k=20,\n",
    "        max_new_tokens=100,\n",
    "        return_full_text=True\n",
    "    )\n",
    "    tokenizer = AutoTokenizer.from_pretrained(model_id)\n",
    "\n",
    "    model.save_pretrained(save_directory=model_path)\n",
    "    tokenizer.save_pretrained(save_directory=model_path)\n",
    "else:\n",
    "    model = LlamaForCausalLM.from_pretrained(model_path,device_map=\"auto\")\n",
    "    tokenizer = AutoTokenizer.from_pretrained(model_path)"
   ]
  },
  {
   "cell_type": "markdown",
   "id": "c82d7023-46ed-434b-87ef-66b637a832b3",
   "metadata": {},
   "source": [
    "\n",
    "Check memory consumption"
   ]
  },
  {
   "cell_type": "code",
   "execution_count": 105,
   "id": "a07679f1-a291-4240-9291-43a3c76dcd12",
   "metadata": {
    "tags": []
   },
   "outputs": [
    {
     "name": "stdout",
     "output_type": "stream",
     "text": [
      "Memory allocated: 13.467896GB\n",
      "Memory reserved  14.214844GB\n",
      "Max memory reserved: 14.214844GB\n"
     ]
    }
   ],
   "source": [
    "print(\"Memory allocated: %fGB\"%(torch.cuda.memory_allocated(0)/1024/1024/1024))\n",
    "print(\"Memory reserved  %fGB\"%(torch.cuda.memory_reserved(0)/1024/1024/1024))\n",
    "print(\"Max memory reserved: %fGB\"%(torch.cuda.max_memory_reserved(0)/1024/1024/1024))"
   ]
  },
  {
   "cell_type": "markdown",
   "id": "93e364df-abc0-42cd-b3e2-4da302ee6379",
   "metadata": {},
   "source": [
    "Test some prompts"
   ]
  },
  {
   "cell_type": "code",
   "execution_count": 102,
   "id": "d003b0a1-d3d0-4f17-868d-d5448c50abcc",
   "metadata": {
    "tags": []
   },
   "outputs": [
    {
     "name": "stdout",
     "output_type": "stream",
     "text": [
      "CPU times: user 5 µs, sys: 0 ns, total: 5 µs\n",
      "Wall time: 11 µs\n",
      "How is UK home office driving down crime in 2023?\n",
      "\n",
      "The UK Home Office is driving down crime in 2023 through a variety of initiatives and strategies. Here are some of\n"
     ]
    }
   ],
   "source": [
    "%time\n",
    "\n",
    "inputs = tokenizer(prompt, return_tensors=\"pt\", padding=True).to(model.device)\n",
    "generated_output = model.generate(\n",
    "        inputs.input_ids,\n",
    "        generation_config=model.generation_config\n",
    ")\n",
    "print(tokenizer.batch_decode(generated_output, skip_special_tokens=True,return_dict_in_generate=True)[0])"
   ]
  },
  {
   "cell_type": "code",
   "execution_count": 104,
   "id": "d92a9e2f-6b56-4666-8880-64106a46a56d",
   "metadata": {
    "tags": []
   },
   "outputs": [
    {
     "name": "stdout",
     "output_type": "stream",
     "text": [
      "CPU times: user 5 µs, sys: 1 µs, total: 6 µs\n",
      "Wall time: 11 µs\n",
      "How is UK home office driving down crime in 2023?\n",
      "\n",
      "The UK Home Office is responsible for immigration, security, and law and order. In 2023, the Home Office is driving down crime through various initiatives and strategies. Here are some of the ways the Home Office is working to reduce crime in the UK:\n",
      "\n",
      "1. Investing in Police Technology: The Home Office is investing in cutting-edge technology to help the police fight crime more effectively. This includes the use of facial recognition software,\n"
     ]
    }
   ],
   "source": [
    "%time\n",
    "pipe = transformers.pipeline(\n",
    "    task='text-generation',\n",
    "    model=model, \n",
    "    tokenizer=tokenizer,\n",
    "    num_return_sequences=1,\n",
    "    eos_token_id=tokenizer.eos_token_id,\n",
    "    pad_token_id=tokenizer.eos_token_id,\n",
    "    max_new_tokens=100\n",
    "    \n",
    ")\n",
    "response = pipe(prompt)\n",
    "print(response[0][\"generated_text\"])"
   ]
  },
  {
   "cell_type": "markdown",
   "id": "e53d8188-0bf0-44f4-93d9-b2e4ead0bc17",
   "metadata": {
    "tags": []
   },
   "source": [
    "## 03. Use LangChain for simple question answering"
   ]
  },
  {
   "cell_type": "markdown",
   "id": "e5875641-131d-4ebf-bcef-a50c2834b845",
   "metadata": {
    "tags": []
   },
   "source": [
    "#### Llama 2 chat models' prompt structure \n",
    "\n",
    "- \\<s> - the beginning of the entire sequence.\n",
    "- <\\<SYS>> - the beginning of the system message.\n",
    "- \\<</SYS\\>> - the end of the system message.\n",
    "- [INST] - the beginning of some instructions\n",
    "- [/INST] - the end of the instructions\n",
    "    \n",
    "\\<s>[INST] <\\<SYS\\>>\n",
    "\n",
    "{{ system_prompt }}\n",
    "\n",
    "\\<<SYS\\>>\n",
    "\n",
    "{{ user_message }} [/INST]\n"
   ]
  },
  {
   "cell_type": "code",
   "execution_count": 112,
   "id": "0c4d5e11-2a1c-4981-a16d-a305325d0c34",
   "metadata": {
    "tags": []
   },
   "outputs": [],
   "source": [
    "from langchain import PromptTemplate\n",
    "\n",
    "template = \"\"\"<s>[INST] <<SYS>>\\nYou are an assistant for question-answering tasks. You are helpful and friendly. Use the following pieces of retrieved context to answer the question. If you don't know the answer, you just say I don't know. Use three sentences maximum and keep the answer concise.\n",
    "<<SYS>>\\n\n",
    "{context}\\n\n",
    "{question} [/INST]\n",
    "\"\"\"\n",
    "prompt_template = PromptTemplate(template=template, input_variables=['context','question'])\n"
   ]
  },
  {
   "cell_type": "code",
   "execution_count": 107,
   "id": "39727de5-6eef-492c-969c-013a8fe64e2e",
   "metadata": {
    "tags": []
   },
   "outputs": [],
   "source": [
    "context = \"\"\"The Home Office is at the heart of many of the Government’s top priorities.\n",
    "We must stop the boats. Illegal immigration is unfair on taxpayers and would-be\n",
    "immigrants who play by the rules, has an unbearable impact on public services and local\n",
    "communities, enriches the gangs, and is lethally dangerous.\n",
    "The Illegal Migration Act is a vital step in securing our borders. It places a cap on the\n",
    "number of people seeking protection that the UK will resettle via safe and legal routes,\n",
    "radically narrows the challenges and appeals that can suspend removal and tightens\n",
    "modern slavery laws. We have signed a new and improved deal with France, along with\n",
    "returns agreements with several countries.\n",
    "The UK-Rwanda Migration and Economic Development Partnership is crucial to these\n",
    "endeavours. The most similar scheme to it internationally is the Operation Sovereign\n",
    "Borders in Australia, which started in late 2013. This entails offshoring asylum claims,\n",
    "including to Nauru, combined with turnarounds at sea. The effect of this programme is\n",
    "reduced Illegal Maritime Arrivals to Australia from approximately 18,000 in 2013, to\n",
    "virtually zero.\n",
    "Overall crime, excluding fraud and computer crime which has only been counted since\n",
    "2016, is now down by 54% since 2010, with burglary down 55%, robbery down 77%,\n",
    "violence down 46%, theft down 47%, neighbourhood crime down 51%, and criminal\n",
    "damage down 72%. We are rolling out our ambitious programme, Operation Soteria, to\n",
    "transform rape investigations and prosecutions and have brought in a big package of\n",
    "measures for domestic abuse victims. Our new Fraud Strategy will mean this wicked crime\n",
    "is treated like the epidemic it is.\n",
    "We received the Third Volume of the Manchester Arena Inquiry report and published the\n",
    "Terrorism (Protection of Premises) draft Bill. This is also known as Martyn’s Law. It will\n",
    "place on public places a greater duty to protect their visitors.\n",
    "Our efforts to drive down crime have been boosted by recruiting 20,951 additional police\n",
    "officers by March 2023, exceeding our manifesto commitment to recruit an additional\n",
    "20,000 by this date. This brings the total number of police officers in England and Wales to\n",
    "149,566 in March 2023 – the highest on record against a previous peak of 146,030 in\n",
    "2010. Now the police need to ensure they focus on getting the basics right: the highest\n",
    "professional standards and a relentless focus on crime, not politically correct distractions.\n",
    "This means continuing to smash county lines gangs, using proven methods like stop and\n",
    "search, and deploying officers to high-crime areas. The Anti-Social Behaviour Action Plan\n",
    "reflects the fact that there is no such thing as petty crime and that it is easy for areas to\n",
    "slip into degeneracy and misery\"\"\""
   ]
  },
  {
   "cell_type": "code",
   "execution_count": 113,
   "id": "d60d4814-21bc-4448-a08a-0eb87025c219",
   "metadata": {
    "tags": []
   },
   "outputs": [
    {
     "data": {
      "text/plain": [
       "'The UK Home Office is driving down crime in 2023 through various initiatives, including:\\n\\n1. Offshoring asylum claims, including to Rwanda, as part of the UK-Rwanda Migration and Economic Development Partnership, which has reduced illegal maritime arrivals to Australia by virtually zero.\\n2. Implementing a big package of measures for domestic abuse victims, including transforming rape investigations and pro'"
      ]
     },
     "execution_count": 113,
     "metadata": {},
     "output_type": "execute_result"
    }
   ],
   "source": [
    "from langchain.chains import LLMChain\n",
    "from langchain.llms import HuggingFacePipeline\n",
    "\n",
    "llm=HuggingFacePipeline(pipeline=pipe, model_kwargs={'temperature':0.7})\n",
    "\n",
    "llm_chain = LLMChain(llm=llm, prompt=prompt_template)\n",
    "llm_chain.predict(context=context, question=question)\n"
   ]
  },
  {
   "cell_type": "markdown",
   "id": "c252fb6a-305b-43fc-9de5-dfba1b6387cb",
   "metadata": {
    "tags": []
   },
   "source": [
    "## 04. Use LangChain and Pinecone for RAG question answering"
   ]
  },
  {
   "cell_type": "markdown",
   "id": "bfc01627-1b6d-4366-9fc9-ab87661f3700",
   "metadata": {
    "tags": []
   },
   "source": [
    "First, let's download the data to be used as knowledge base in RAG. We will use reports published by the UK Home office in 2023"
   ]
  },
  {
   "cell_type": "code",
   "execution_count": 114,
   "id": "e840bf42-f473-469f-90ef-039bb67f6cdb",
   "metadata": {},
   "outputs": [],
   "source": [
    "from urllib.request import urlretrieve\n",
    "files = [\n",
    "    \"https://assets.publishing.service.gov.uk/government/uploads/system/uploads/attachment_data/file/1185849/Home_Office_Annual_Report_and_Accounts_22-23.pdf\",\n",
    "    \"https://assets.publishing.service.gov.uk/government/uploads/system/uploads/attachment_data/file/1185949/2023-9-18_Equality_Impact_Assessment_for_Autumn_2023_fee_increases_FINAL.pdf\",\n",
    "]\n",
    "\n",
    "os.makedirs(\"data\", exist_ok=True)\n",
    "\n",
    "for url in files:\n",
    "    file_path = os.path.join(\"data\", url.rpartition(\"/\")[2])\n",
    "    urlretrieve(url, file_path)"
   ]
  },
  {
   "cell_type": "markdown",
   "id": "da1b4d5b-0cfb-422b-aa90-ed481b48194d",
   "metadata": {},
   "source": [
    "Next let's split the data into documents"
   ]
  },
  {
   "cell_type": "code",
   "execution_count": 115,
   "id": "fc83614a-a646-4d4b-ae6f-8d5f6964c038",
   "metadata": {},
   "outputs": [],
   "source": [
    "import numpy as np\n",
    "from langchain.text_splitter import CharacterTextSplitter, RecursiveCharacterTextSplitter\n",
    "from langchain.document_loaders import PyPDFLoader, PyPDFDirectoryLoader\n",
    "\n",
    "loader = PyPDFDirectoryLoader(\"./data/\")\n",
    "\n",
    "documents = loader.load()\n",
    "\n",
    "text_splitter = RecursiveCharacterTextSplitter(\n",
    "    chunk_size = 1000,\n",
    "    chunk_overlap  = 100,\n",
    ")\n",
    "docs = text_splitter.split_documents(documents)"
   ]
  },
  {
   "cell_type": "code",
   "execution_count": 116,
   "id": "e270c7ff-9908-456e-af68-e08d54c0d5e6",
   "metadata": {
    "tags": []
   },
   "outputs": [],
   "source": [
    "# avg_doc_length = lambda documents: sum([len(doc.page_content) for doc in documents])//len(documents)\n",
    "# avg_char_count_pre = avg_doc_length(documents)\n",
    "# avg_char_count_post = avg_doc_length(docs)\n",
    "# print(f'Average length among {len(documents)} documents loaded is {avg_char_count_pre} characters.')\n",
    "# print(f'After the split we have {len(docs)} documents more than the original {len(documents)}.')\n",
    "# print(f'Average length among {len(docs)} documents (after split) is {avg_char_count_post} characters.')"
   ]
  },
  {
   "cell_type": "markdown",
   "id": "a702ef35-4338-4aa4-9a4a-481a5db011dc",
   "metadata": {},
   "source": [
    "Generate the embeddings. For that we will use the bge-small-en model"
   ]
  },
  {
   "cell_type": "code",
   "execution_count": 124,
   "id": "9fb59413-1ae8-4213-bd96-434bfc218674",
   "metadata": {
    "tags": []
   },
   "outputs": [
    {
     "data": {
      "text/plain": [
       "HuggingFaceBgeEmbeddings(client=SentenceTransformer(\n",
       "  (0): Transformer({'max_seq_length': 512, 'do_lower_case': True}) with Transformer model: BertModel \n",
       "  (1): Pooling({'word_embedding_dimension': 384, 'pooling_mode_cls_token': True, 'pooling_mode_mean_tokens': False, 'pooling_mode_max_tokens': False, 'pooling_mode_mean_sqrt_len_tokens': False})\n",
       "), model_name='BAAI/bge-small-en', cache_folder=None, model_kwargs={'device': 'cuda'}, encode_kwargs={'normalize_embeddings': False}, query_instruction='Represent this question for searching relevant passages: ')"
      ]
     },
     "execution_count": 124,
     "metadata": {},
     "output_type": "execute_result"
    }
   ],
   "source": [
    "from langchain.embeddings import HuggingFaceBgeEmbeddings\n",
    "\n",
    "model_name = \"BAAI/bge-small-en\"\n",
    "model_kwargs = {'device': 'cuda'}\n",
    "encode_kwargs = {'normalize_embeddings': False}\n",
    "embeddings = HuggingFaceBgeEmbeddings(\n",
    "    model_name=model_name,\n",
    "    model_kwargs=model_kwargs,\n",
    "    encode_kwargs=encode_kwargs\n",
    ")\n",
    "embeddings"
   ]
  },
  {
   "cell_type": "markdown",
   "id": "81fe3504-7bae-46f1-a0aa-360238e5cb0e",
   "metadata": {},
   "source": [
    "Let's have a look at an example of the generated embeddings. The dimension for our embeddings model is 384"
   ]
  },
  {
   "cell_type": "code",
   "execution_count": 127,
   "id": "9a183a3c-4e56-42a0-aa37-468f0a438977",
   "metadata": {
    "tags": []
   },
   "outputs": [
    {
     "name": "stdout",
     "output_type": "stream",
     "text": [
      "Size of the embedding:  384\n"
     ]
    }
   ],
   "source": [
    "sample_embedding = np.array(embeddings.embed_query(docs[0].page_content))\n",
    "#print(\"Sample embedding of a document chunk: \", sample_embedding)\n",
    "print(\"Size of the embedding: \", sample_embedding.shape[0])"
   ]
  },
  {
   "cell_type": "markdown",
   "id": "7ff3bd75-c8d8-4c25-afe0-25406249be72",
   "metadata": {},
   "source": [
    "Ingest the embeddings into the vector store. We will be using Pinecone."
   ]
  },
  {
   "cell_type": "code",
   "execution_count": 128,
   "id": "4fdf57ca-368e-4275-9a7b-f23d6831abb5",
   "metadata": {
    "tags": []
   },
   "outputs": [
    {
     "name": "stdin",
     "output_type": "stream",
     "text": [
      "Pinecone API Key: ········\n",
      "Pinecone Environment: ········\n"
     ]
    }
   ],
   "source": [
    "import getpass\n",
    "os.environ[\"PINECONE_API_KEY\"] = getpass.getpass(\"Pinecone API Key:\")\n",
    "os.environ[\"PINECONE_ENV\"] = getpass.getpass(\"Pinecone Environment:\")"
   ]
  },
  {
   "cell_type": "code",
   "execution_count": 129,
   "id": "3167c11c-3900-4fb2-88e9-27dabe57186d",
   "metadata": {},
   "outputs": [],
   "source": [
    "import pinecone\n",
    "pinecone.init(\n",
    "    api_key = os.environ[\"PINECONE_API_KEY\"],\n",
    "    environment = os.environ[\"PINECONE_ENV\"]\n",
    ")"
   ]
  },
  {
   "cell_type": "code",
   "execution_count": 130,
   "id": "d2ffc6e6-f9b6-45f4-a87c-473f24098368",
   "metadata": {},
   "outputs": [],
   "source": [
    "#check if index already exists, if not we create it\n",
    "index_name = \"qa-index\"\n",
    "if index_name not in pinecone.list_indexes():\n",
    "    pinecone.create_index(\n",
    "        name=index_name,\n",
    "        dimension=384,\n",
    "        metric='cosine'\n",
    "    )"
   ]
  },
  {
   "cell_type": "code",
   "execution_count": 131,
   "id": "7089eae7-f173-476e-9004-535893cfd2ca",
   "metadata": {
    "tags": []
   },
   "outputs": [],
   "source": [
    "from langchain.vectorstores import Pinecone\n",
    "vector_store = Pinecone.from_documents(docs, embeddings, index_name=index_name)"
   ]
  },
  {
   "cell_type": "markdown",
   "id": "439c8ed5-dcb2-45ab-9737-c75043848e0f",
   "metadata": {
    "tags": []
   },
   "source": [
    "Let's validate the similarity search is working well"
   ]
  },
  {
   "cell_type": "code",
   "execution_count": 132,
   "id": "ff8f1253-5cb9-4225-a7fe-31e28fde496f",
   "metadata": {
    "tags": []
   },
   "outputs": [
    {
     "name": "stdout",
     "output_type": "stream",
     "text": [
      "Performance Report  | 27 This section expands on the Performance Overview section and includes details of our \n",
      "activities and further analysis of progress against performance indicators.  \n",
      "Outcome Delivery Plan 1: Reduce crime  \n",
      "The Home Office ’s aim, as set out in the Beating Crime Plan, is to cut crime, reduce the \n",
      "number of victims and make our country safe. Our approach focuses on cutting homicide, \n",
      "neighbourhood crime and serious violence; exposing and ending hidden harms such as \n",
      "child sexual abuse and domestic abuse, prosecuting perpetrators; and building capability \n",
      "and capacity to tackle fraud, cyber crime  and online crime.  \n",
      "The Department set out to achieve the following through its 2022 -23 performance:  \n",
      "• Recruit an additional 20,000 police officers across England and Wales by March \n",
      "2023 .  \n",
      "• Ensure the police have the resources and tools they need to respond to the \n",
      "evolving profile of crime and deliver against our priorities.\n"
     ]
    }
   ],
   "source": [
    "docs = vector_store.similarity_search(question)\n",
    "print(docs[3].page_content)"
   ]
  },
  {
   "cell_type": "markdown",
   "id": "e23974b7-71dc-4024-9b60-dcbe42dace73",
   "metadata": {
    "tags": []
   },
   "source": [
    "Next, we will use the Lagnchain RetrievalQA to augment our initial prompt with the most similar documents from the vector store"
   ]
  },
  {
   "cell_type": "code",
   "execution_count": 136,
   "id": "e3d4c5f9-5c2d-4272-83b7-f106486da0d8",
   "metadata": {
    "tags": []
   },
   "outputs": [],
   "source": [
    "from langchain.chains import RetrievalQA\n",
    "\n",
    "from langchain.prompts import PromptTemplate\n",
    "\n",
    "llm_qa_chain = RetrievalQA.from_chain_type(llm=llm,\n",
    "                                     chain_type='stuff',\n",
    "                                     retriever=vector_store.as_retriever(search_kwargs={\"k\": 5}),\n",
    "                                     return_source_documents=True,\n",
    "                                     chain_type_kwargs={\"prompt\": prompt_template})"
   ]
  },
  {
   "cell_type": "code",
   "execution_count": 139,
   "id": "4de8238b-cb17-4e27-b897-e52d05c31ff0",
   "metadata": {
    "tags": []
   },
   "outputs": [
    {
     "data": {
      "text/plain": [
       "{'query': 'How is UK home office driving down crime in 2023?',\n",
       " 'result': \"\\nThe UK Home Office is driving down crime in 2023 through various initiatives outlined in its Outcome Delivery Plan 1: Reduce crime. These include recruiting an additional 20,000 police officers across England and Wales by March 2023, ensuring the police have the resources and tools they need to respond to the evolving profile of crime, and delivering against the department's priorities. Additionally, the Home Office\",\n",
       " 'source_documents': [Document(page_content='Performance Report  | 27 This section expands on the Performance Overview section and includes details of our \\nactivities and further analysis of progress against performance indicators.  \\nOutcome Delivery Plan 1: Reduce crime  \\nThe Home Office ’s aim, as set out in the Beating Crime Plan, is to cut crime, reduce the \\nnumber of victims and make our country safe. Our approach focuses on cutting homicide, \\nneighbourhood crime and serious violence; exposing and ending hidden harms such as \\nchild sexual abuse and domestic abuse, prosecuting perpetrators; and building capability \\nand capacity to tackle fraud, cyber crime  and online crime.  \\nThe Department set out to achieve the following through its 2022 -23 performance:  \\n• Recruit an additional 20,000 police officers across England and Wales by March \\n2023 .  \\n• Ensure the police have the resources and tools they need to respond to the \\nevolving profile of crime and deliver against our priorities.', metadata={'page': 26.0, 'source': 'data/Home_Office_Annual_Report_and_Accounts_22-23.pdf'}),\n",
       "  Document(page_content='Performance Report  | 27 This section expands on the Performance Overview section and includes details of our \\nactivities and further analysis of progress against performance indicators.  \\nOutcome Delivery Plan 1: Reduce crime  \\nThe Home Office ’s aim, as set out in the Beating Crime Plan, is to cut crime, reduce the \\nnumber of victims and make our country safe. Our approach focuses on cutting homicide, \\nneighbourhood crime and serious violence; exposing and ending hidden harms such as \\nchild sexual abuse and domestic abuse, prosecuting perpetrators; and building capability \\nand capacity to tackle fraud, cyber crime  and online crime.  \\nThe Department set out to achieve the following through its 2022 -23 performance:  \\n• Recruit an additional 20,000 police officers across England and Wales by March \\n2023 .  \\n• Ensure the police have the resources and tools they need to respond to the \\nevolving profile of crime and deliver against our priorities.', metadata={'page': 26.0, 'source': 'data/Home_Office_Annual_Report_and_Accounts_22-23.pdf'}),\n",
       "  Document(page_content='Performance Report  | 27 This section expands on the Performance Overview section and includes details of our \\nactivities and further analysis of progress against performance indicators.  \\nOutcome Delivery Plan 1: Reduce crime  \\nThe Home Office ’s aim, as set out in the Beating Crime Plan, is to cut crime, reduce the \\nnumber of victims and make our country safe. Our approach focuses on cutting homicide, \\nneighbourhood crime and serious violence; exposing and ending hidden harms such as \\nchild sexual abuse and domestic abuse, prosecuting perpetrators; and building capability \\nand capacity to tackle fraud, cyber crime  and online crime.  \\nThe Department set out to achieve the following through its 2022 -23 performance:  \\n• Recruit an additional 20,000 police officers across England and Wales by March \\n2023 .  \\n• Ensure the police have the resources and tools they need to respond to the \\nevolving profile of crime and deliver against our priorities.', metadata={'page': 26.0, 'source': 'data/Home_Office_Annual_Report_and_Accounts_22-23.pdf'}),\n",
       "  Document(page_content='Performance Report  | 27 This section expands on the Performance Overview section and includes details of our \\nactivities and further analysis of progress against performance indicators.  \\nOutcome Delivery Plan 1: Reduce crime  \\nThe Home Office ’s aim, as set out in the Beating Crime Plan, is to cut crime, reduce the \\nnumber of victims and make our country safe. Our approach focuses on cutting homicide, \\nneighbourhood crime and serious violence; exposing and ending hidden harms such as \\nchild sexual abuse and domestic abuse, prosecuting perpetrators; and building capability \\nand capacity to tackle fraud, cyber crime  and online crime.  \\nThe Department set out to achieve the following through its 2022 -23 performance:  \\n• Recruit an additional 20,000 police officers across England and Wales by March \\n2023 .  \\n• Ensure the police have the resources and tools they need to respond to the \\nevolving profile of crime and deliver against our priorities.', metadata={'page': 26.0, 'source': 'data/Home_Office_Annual_Report_and_Accounts_22-23.pdf'}),\n",
       "  Document(page_content='Performance Report  | 27 This section expands on the Performance Overview section and includes details of our \\nactivities and further analysis of progress against performance indicators.  \\nOutcome Delivery Plan 1: Reduce crime  \\nThe Home Office ’s aim, as set out in the Beating Crime Plan, is to cut crime, reduce the \\nnumber of victims and make our country safe. Our approach focuses on cutting homicide, \\nneighbourhood crime and serious violence; exposing and ending hidden harms such as \\nchild sexual abuse and domestic abuse, prosecuting perpetrators; and building capability \\nand capacity to tackle fraud, cyber crime  and online crime.  \\nThe Department set out to achieve the following through its 2022 -23 performance:  \\n• Recruit an additional 20,000 police officers across England and Wales by March \\n2023 .  \\n• Ensure the police have the resources and tools they need to respond to the \\nevolving profile of crime and deliver against our priorities.', metadata={'page': 26.0, 'source': 'data/Home_Office_Annual_Report_and_Accounts_22-23.pdf'})]}"
      ]
     },
     "execution_count": 139,
     "metadata": {},
     "output_type": "execute_result"
    }
   ],
   "source": [
    "llm_response = llm_qa_chain(query)\n",
    "llm_response"
   ]
  },
  {
   "cell_type": "markdown",
   "id": "9d13e2e9-4257-4312-9fe2-e4dd581cd238",
   "metadata": {
    "tags": []
   },
   "source": [
    "## 04. Build GenAI applications at scale by deploying our RAG question answering to SageMaker"
   ]
  },
  {
   "cell_type": "code",
   "execution_count": null,
   "id": "faa5920f-fbc1-4fae-9952-df84ef211acb",
   "metadata": {},
   "outputs": [],
   "source": [
    "import json\n",
    "import sagemaker\n",
    "import boto3\n",
    "from sagemaker.huggingface import HuggingFaceModel, get_huggingface_llm_image_uri\n",
    "\n",
    "try:\n",
    "\trole = sagemaker.get_execution_role()\n",
    "except ValueError:\n",
    "\tiam = boto3.client('iam')\n",
    "\trole = iam.get_role(RoleName='sagemaker_execution_role')['Role']['Arn']"
   ]
  },
  {
   "cell_type": "code",
   "execution_count": null,
   "id": "ec7a9496-07f4-48ec-94d1-ca484580b72c",
   "metadata": {},
   "outputs": [],
   "source": [
    "import tarfile\n",
    "\n",
    "zipped_model_path = os.path.join(model_path, \"model.tar.gz\")\n",
    "\n",
    "with tarfile.open(zipped_model_path, \"w:gz\") as tar:\n",
    "    tar.add(model_path)\n",
    "    tar.add(code_path)"
   ]
  },
  {
   "cell_type": "code",
   "execution_count": null,
   "id": "748d643a-dfa7-4c32-a4fd-48d085efdafc",
   "metadata": {},
   "outputs": [],
   "source": [
    "import time\n",
    "\n",
    "endpoint_name = model_id + time.strftime(\"%Y-%m-%d-%H-%M-%S\", time.gmtime())\n",
    "\n",
    "llm_image = get_huggingface_llm_image_uri(\n",
    "  \"huggingface\",\n",
    "  version=\"0.9.3\"\n",
    ")\n",
    "\n",
    "print(f\"llm image uri: {llm_image}\")\n",
    "\n",
    "model = HuggingFaceModel(\n",
    "   # entry_point=\"inference_code.py\",\n",
    "    model_data=zipped_model_path,\n",
    "    role=get_execution_role(),\n",
    "    framework_version=\"1.5\",\n",
    "    py_version=\"py3\",\n",
    ")\n",
    "\n",
    "predictor = model.deploy(\n",
    "    initial_instance_count=1, instance_type=\"ml.m5.xlarge\", endpoint_name=endpoint_name\n",
    ")"
   ]
  },
  {
   "cell_type": "code",
   "execution_count": null,
   "id": "69c2b7f1-768e-464d-a01a-0761377654f1",
   "metadata": {},
   "outputs": [],
   "source": [
    "# Define Model and Endpoint configuration parameter\n",
    "\n",
    "instance_type = \"ml.g5.2xlarge\"\n",
    "number_of_gpu = 1\n",
    "health_check_timeout = 300\n",
    "\n",
    "\n",
    "config = {\n",
    "  'HF_MODEL_ID': \"meta-llama/Llama-2-7b-chat-hf\",\n",
    "  'SM_NUM_GPUS': json.dumps(number_of_gpu),\n",
    "  'MAX_INPUT_LENGTH': json.dumps(2048),  # Max length of input text\n",
    "  'MAX_TOTAL_TOKENS': json.dumps(4096),  # Max length of the generation (including input text)\n",
    "  'MAX_BATCH_TOTAL_TOKENS': json.dumps(8192),  # Limits the number of tokens that can be processed in parallel during the generation\n",
    "  'HUGGING_FACE_HUB_TOKEN': \"<REPLACE WITH YOUR TOKEN>\"\n",
    "  # ,'HF_MODEL_QUANTIZE': \"bitsandbytes\", # comment in to quantize\n",
    "}\n",
    "\n",
    "# check if token is set\n",
    "assert config['HUGGING_FACE_HUB_TOKEN'] != \"<REPLACE WITH YOUR TOKEN>\", \"Please set your Hugging Face Hub token\"\n",
    "\n",
    "# create Hugging Face Model Class\n",
    "huggingface_model = HuggingFaceModel(\n",
    "\timage_uri=get_huggingface_llm_image_uri(\"huggingface\",version=\"0.9.3\"),\n",
    "\tenv=hub,\n",
    "\trole=role, \n",
    ")\n",
    "\n",
    "# deploy model to SageMaker Inference\n",
    "predictor = huggingface_model.deploy(\n",
    "\tinitial_instance_count=1,\n",
    "\tinstance_type=\"ml.g5.2xlarge\",\n",
    "\tcontainer_startup_health_check_timeout=300,\n",
    "  )\n",
    "  \n",
    "# send request\n",
    "predictor.predict({\n",
    "\t\"inputs\": \"My name is Julien and I like to\",\n",
    "})"
   ]
  },
  {
   "cell_type": "code",
   "execution_count": null,
   "id": "c8ec457c-c4b2-476a-98d9-a947c9a9b43a",
   "metadata": {},
   "outputs": [],
   "source": [
    "# Deploy model to an endpoint\n",
    "# https://sagemaker.readthedocs.io/en/stable/api/inference/model.html#sagemaker.model.Model.deploy\n",
    "llm = llm_model.deploy(\n",
    "  initial_instance_count=1,\n",
    "  instance_type=instance_type,\n",
    "  container_startup_health_check_timeout=health_check_timeout, # 10 minutes to be able to load the model\n",
    ")\n",
    "\n",
    "="
   ]
  }
 ],
 "metadata": {
  "availableInstances": [
   {
    "_defaultOrder": 0,
    "_isFastLaunch": true,
    "category": "General purpose",
    "gpuNum": 0,
    "hideHardwareSpecs": false,
    "memoryGiB": 4,
    "name": "ml.t3.medium",
    "vcpuNum": 2
   },
   {
    "_defaultOrder": 1,
    "_isFastLaunch": false,
    "category": "General purpose",
    "gpuNum": 0,
    "hideHardwareSpecs": false,
    "memoryGiB": 8,
    "name": "ml.t3.large",
    "vcpuNum": 2
   },
   {
    "_defaultOrder": 2,
    "_isFastLaunch": false,
    "category": "General purpose",
    "gpuNum": 0,
    "hideHardwareSpecs": false,
    "memoryGiB": 16,
    "name": "ml.t3.xlarge",
    "vcpuNum": 4
   },
   {
    "_defaultOrder": 3,
    "_isFastLaunch": false,
    "category": "General purpose",
    "gpuNum": 0,
    "hideHardwareSpecs": false,
    "memoryGiB": 32,
    "name": "ml.t3.2xlarge",
    "vcpuNum": 8
   },
   {
    "_defaultOrder": 4,
    "_isFastLaunch": true,
    "category": "General purpose",
    "gpuNum": 0,
    "hideHardwareSpecs": false,
    "memoryGiB": 8,
    "name": "ml.m5.large",
    "vcpuNum": 2
   },
   {
    "_defaultOrder": 5,
    "_isFastLaunch": false,
    "category": "General purpose",
    "gpuNum": 0,
    "hideHardwareSpecs": false,
    "memoryGiB": 16,
    "name": "ml.m5.xlarge",
    "vcpuNum": 4
   },
   {
    "_defaultOrder": 6,
    "_isFastLaunch": false,
    "category": "General purpose",
    "gpuNum": 0,
    "hideHardwareSpecs": false,
    "memoryGiB": 32,
    "name": "ml.m5.2xlarge",
    "vcpuNum": 8
   },
   {
    "_defaultOrder": 7,
    "_isFastLaunch": false,
    "category": "General purpose",
    "gpuNum": 0,
    "hideHardwareSpecs": false,
    "memoryGiB": 64,
    "name": "ml.m5.4xlarge",
    "vcpuNum": 16
   },
   {
    "_defaultOrder": 8,
    "_isFastLaunch": false,
    "category": "General purpose",
    "gpuNum": 0,
    "hideHardwareSpecs": false,
    "memoryGiB": 128,
    "name": "ml.m5.8xlarge",
    "vcpuNum": 32
   },
   {
    "_defaultOrder": 9,
    "_isFastLaunch": false,
    "category": "General purpose",
    "gpuNum": 0,
    "hideHardwareSpecs": false,
    "memoryGiB": 192,
    "name": "ml.m5.12xlarge",
    "vcpuNum": 48
   },
   {
    "_defaultOrder": 10,
    "_isFastLaunch": false,
    "category": "General purpose",
    "gpuNum": 0,
    "hideHardwareSpecs": false,
    "memoryGiB": 256,
    "name": "ml.m5.16xlarge",
    "vcpuNum": 64
   },
   {
    "_defaultOrder": 11,
    "_isFastLaunch": false,
    "category": "General purpose",
    "gpuNum": 0,
    "hideHardwareSpecs": false,
    "memoryGiB": 384,
    "name": "ml.m5.24xlarge",
    "vcpuNum": 96
   },
   {
    "_defaultOrder": 12,
    "_isFastLaunch": false,
    "category": "General purpose",
    "gpuNum": 0,
    "hideHardwareSpecs": false,
    "memoryGiB": 8,
    "name": "ml.m5d.large",
    "vcpuNum": 2
   },
   {
    "_defaultOrder": 13,
    "_isFastLaunch": false,
    "category": "General purpose",
    "gpuNum": 0,
    "hideHardwareSpecs": false,
    "memoryGiB": 16,
    "name": "ml.m5d.xlarge",
    "vcpuNum": 4
   },
   {
    "_defaultOrder": 14,
    "_isFastLaunch": false,
    "category": "General purpose",
    "gpuNum": 0,
    "hideHardwareSpecs": false,
    "memoryGiB": 32,
    "name": "ml.m5d.2xlarge",
    "vcpuNum": 8
   },
   {
    "_defaultOrder": 15,
    "_isFastLaunch": false,
    "category": "General purpose",
    "gpuNum": 0,
    "hideHardwareSpecs": false,
    "memoryGiB": 64,
    "name": "ml.m5d.4xlarge",
    "vcpuNum": 16
   },
   {
    "_defaultOrder": 16,
    "_isFastLaunch": false,
    "category": "General purpose",
    "gpuNum": 0,
    "hideHardwareSpecs": false,
    "memoryGiB": 128,
    "name": "ml.m5d.8xlarge",
    "vcpuNum": 32
   },
   {
    "_defaultOrder": 17,
    "_isFastLaunch": false,
    "category": "General purpose",
    "gpuNum": 0,
    "hideHardwareSpecs": false,
    "memoryGiB": 192,
    "name": "ml.m5d.12xlarge",
    "vcpuNum": 48
   },
   {
    "_defaultOrder": 18,
    "_isFastLaunch": false,
    "category": "General purpose",
    "gpuNum": 0,
    "hideHardwareSpecs": false,
    "memoryGiB": 256,
    "name": "ml.m5d.16xlarge",
    "vcpuNum": 64
   },
   {
    "_defaultOrder": 19,
    "_isFastLaunch": false,
    "category": "General purpose",
    "gpuNum": 0,
    "hideHardwareSpecs": false,
    "memoryGiB": 384,
    "name": "ml.m5d.24xlarge",
    "vcpuNum": 96
   },
   {
    "_defaultOrder": 20,
    "_isFastLaunch": false,
    "category": "General purpose",
    "gpuNum": 0,
    "hideHardwareSpecs": true,
    "memoryGiB": 0,
    "name": "ml.geospatial.interactive",
    "supportedImageNames": [
     "sagemaker-geospatial-v1-0"
    ],
    "vcpuNum": 0
   },
   {
    "_defaultOrder": 21,
    "_isFastLaunch": true,
    "category": "Compute optimized",
    "gpuNum": 0,
    "hideHardwareSpecs": false,
    "memoryGiB": 4,
    "name": "ml.c5.large",
    "vcpuNum": 2
   },
   {
    "_defaultOrder": 22,
    "_isFastLaunch": false,
    "category": "Compute optimized",
    "gpuNum": 0,
    "hideHardwareSpecs": false,
    "memoryGiB": 8,
    "name": "ml.c5.xlarge",
    "vcpuNum": 4
   },
   {
    "_defaultOrder": 23,
    "_isFastLaunch": false,
    "category": "Compute optimized",
    "gpuNum": 0,
    "hideHardwareSpecs": false,
    "memoryGiB": 16,
    "name": "ml.c5.2xlarge",
    "vcpuNum": 8
   },
   {
    "_defaultOrder": 24,
    "_isFastLaunch": false,
    "category": "Compute optimized",
    "gpuNum": 0,
    "hideHardwareSpecs": false,
    "memoryGiB": 32,
    "name": "ml.c5.4xlarge",
    "vcpuNum": 16
   },
   {
    "_defaultOrder": 25,
    "_isFastLaunch": false,
    "category": "Compute optimized",
    "gpuNum": 0,
    "hideHardwareSpecs": false,
    "memoryGiB": 72,
    "name": "ml.c5.9xlarge",
    "vcpuNum": 36
   },
   {
    "_defaultOrder": 26,
    "_isFastLaunch": false,
    "category": "Compute optimized",
    "gpuNum": 0,
    "hideHardwareSpecs": false,
    "memoryGiB": 96,
    "name": "ml.c5.12xlarge",
    "vcpuNum": 48
   },
   {
    "_defaultOrder": 27,
    "_isFastLaunch": false,
    "category": "Compute optimized",
    "gpuNum": 0,
    "hideHardwareSpecs": false,
    "memoryGiB": 144,
    "name": "ml.c5.18xlarge",
    "vcpuNum": 72
   },
   {
    "_defaultOrder": 28,
    "_isFastLaunch": false,
    "category": "Compute optimized",
    "gpuNum": 0,
    "hideHardwareSpecs": false,
    "memoryGiB": 192,
    "name": "ml.c5.24xlarge",
    "vcpuNum": 96
   },
   {
    "_defaultOrder": 29,
    "_isFastLaunch": true,
    "category": "Accelerated computing",
    "gpuNum": 1,
    "hideHardwareSpecs": false,
    "memoryGiB": 16,
    "name": "ml.g4dn.xlarge",
    "vcpuNum": 4
   },
   {
    "_defaultOrder": 30,
    "_isFastLaunch": false,
    "category": "Accelerated computing",
    "gpuNum": 1,
    "hideHardwareSpecs": false,
    "memoryGiB": 32,
    "name": "ml.g4dn.2xlarge",
    "vcpuNum": 8
   },
   {
    "_defaultOrder": 31,
    "_isFastLaunch": false,
    "category": "Accelerated computing",
    "gpuNum": 1,
    "hideHardwareSpecs": false,
    "memoryGiB": 64,
    "name": "ml.g4dn.4xlarge",
    "vcpuNum": 16
   },
   {
    "_defaultOrder": 32,
    "_isFastLaunch": false,
    "category": "Accelerated computing",
    "gpuNum": 1,
    "hideHardwareSpecs": false,
    "memoryGiB": 128,
    "name": "ml.g4dn.8xlarge",
    "vcpuNum": 32
   },
   {
    "_defaultOrder": 33,
    "_isFastLaunch": false,
    "category": "Accelerated computing",
    "gpuNum": 4,
    "hideHardwareSpecs": false,
    "memoryGiB": 192,
    "name": "ml.g4dn.12xlarge",
    "vcpuNum": 48
   },
   {
    "_defaultOrder": 34,
    "_isFastLaunch": false,
    "category": "Accelerated computing",
    "gpuNum": 1,
    "hideHardwareSpecs": false,
    "memoryGiB": 256,
    "name": "ml.g4dn.16xlarge",
    "vcpuNum": 64
   },
   {
    "_defaultOrder": 35,
    "_isFastLaunch": false,
    "category": "Accelerated computing",
    "gpuNum": 1,
    "hideHardwareSpecs": false,
    "memoryGiB": 61,
    "name": "ml.p3.2xlarge",
    "vcpuNum": 8
   },
   {
    "_defaultOrder": 36,
    "_isFastLaunch": false,
    "category": "Accelerated computing",
    "gpuNum": 4,
    "hideHardwareSpecs": false,
    "memoryGiB": 244,
    "name": "ml.p3.8xlarge",
    "vcpuNum": 32
   },
   {
    "_defaultOrder": 37,
    "_isFastLaunch": false,
    "category": "Accelerated computing",
    "gpuNum": 8,
    "hideHardwareSpecs": false,
    "memoryGiB": 488,
    "name": "ml.p3.16xlarge",
    "vcpuNum": 64
   },
   {
    "_defaultOrder": 38,
    "_isFastLaunch": false,
    "category": "Accelerated computing",
    "gpuNum": 8,
    "hideHardwareSpecs": false,
    "memoryGiB": 768,
    "name": "ml.p3dn.24xlarge",
    "vcpuNum": 96
   },
   {
    "_defaultOrder": 39,
    "_isFastLaunch": false,
    "category": "Memory Optimized",
    "gpuNum": 0,
    "hideHardwareSpecs": false,
    "memoryGiB": 16,
    "name": "ml.r5.large",
    "vcpuNum": 2
   },
   {
    "_defaultOrder": 40,
    "_isFastLaunch": false,
    "category": "Memory Optimized",
    "gpuNum": 0,
    "hideHardwareSpecs": false,
    "memoryGiB": 32,
    "name": "ml.r5.xlarge",
    "vcpuNum": 4
   },
   {
    "_defaultOrder": 41,
    "_isFastLaunch": false,
    "category": "Memory Optimized",
    "gpuNum": 0,
    "hideHardwareSpecs": false,
    "memoryGiB": 64,
    "name": "ml.r5.2xlarge",
    "vcpuNum": 8
   },
   {
    "_defaultOrder": 42,
    "_isFastLaunch": false,
    "category": "Memory Optimized",
    "gpuNum": 0,
    "hideHardwareSpecs": false,
    "memoryGiB": 128,
    "name": "ml.r5.4xlarge",
    "vcpuNum": 16
   },
   {
    "_defaultOrder": 43,
    "_isFastLaunch": false,
    "category": "Memory Optimized",
    "gpuNum": 0,
    "hideHardwareSpecs": false,
    "memoryGiB": 256,
    "name": "ml.r5.8xlarge",
    "vcpuNum": 32
   },
   {
    "_defaultOrder": 44,
    "_isFastLaunch": false,
    "category": "Memory Optimized",
    "gpuNum": 0,
    "hideHardwareSpecs": false,
    "memoryGiB": 384,
    "name": "ml.r5.12xlarge",
    "vcpuNum": 48
   },
   {
    "_defaultOrder": 45,
    "_isFastLaunch": false,
    "category": "Memory Optimized",
    "gpuNum": 0,
    "hideHardwareSpecs": false,
    "memoryGiB": 512,
    "name": "ml.r5.16xlarge",
    "vcpuNum": 64
   },
   {
    "_defaultOrder": 46,
    "_isFastLaunch": false,
    "category": "Memory Optimized",
    "gpuNum": 0,
    "hideHardwareSpecs": false,
    "memoryGiB": 768,
    "name": "ml.r5.24xlarge",
    "vcpuNum": 96
   },
   {
    "_defaultOrder": 47,
    "_isFastLaunch": false,
    "category": "Accelerated computing",
    "gpuNum": 1,
    "hideHardwareSpecs": false,
    "memoryGiB": 16,
    "name": "ml.g5.xlarge",
    "vcpuNum": 4
   },
   {
    "_defaultOrder": 48,
    "_isFastLaunch": false,
    "category": "Accelerated computing",
    "gpuNum": 1,
    "hideHardwareSpecs": false,
    "memoryGiB": 32,
    "name": "ml.g5.2xlarge",
    "vcpuNum": 8
   },
   {
    "_defaultOrder": 49,
    "_isFastLaunch": false,
    "category": "Accelerated computing",
    "gpuNum": 1,
    "hideHardwareSpecs": false,
    "memoryGiB": 64,
    "name": "ml.g5.4xlarge",
    "vcpuNum": 16
   },
   {
    "_defaultOrder": 50,
    "_isFastLaunch": false,
    "category": "Accelerated computing",
    "gpuNum": 1,
    "hideHardwareSpecs": false,
    "memoryGiB": 128,
    "name": "ml.g5.8xlarge",
    "vcpuNum": 32
   },
   {
    "_defaultOrder": 51,
    "_isFastLaunch": false,
    "category": "Accelerated computing",
    "gpuNum": 1,
    "hideHardwareSpecs": false,
    "memoryGiB": 256,
    "name": "ml.g5.16xlarge",
    "vcpuNum": 64
   },
   {
    "_defaultOrder": 52,
    "_isFastLaunch": false,
    "category": "Accelerated computing",
    "gpuNum": 4,
    "hideHardwareSpecs": false,
    "memoryGiB": 192,
    "name": "ml.g5.12xlarge",
    "vcpuNum": 48
   },
   {
    "_defaultOrder": 53,
    "_isFastLaunch": false,
    "category": "Accelerated computing",
    "gpuNum": 4,
    "hideHardwareSpecs": false,
    "memoryGiB": 384,
    "name": "ml.g5.24xlarge",
    "vcpuNum": 96
   },
   {
    "_defaultOrder": 54,
    "_isFastLaunch": false,
    "category": "Accelerated computing",
    "gpuNum": 8,
    "hideHardwareSpecs": false,
    "memoryGiB": 768,
    "name": "ml.g5.48xlarge",
    "vcpuNum": 192
   },
   {
    "_defaultOrder": 55,
    "_isFastLaunch": false,
    "category": "Accelerated computing",
    "gpuNum": 8,
    "hideHardwareSpecs": false,
    "memoryGiB": 1152,
    "name": "ml.p4d.24xlarge",
    "vcpuNum": 96
   },
   {
    "_defaultOrder": 56,
    "_isFastLaunch": false,
    "category": "Accelerated computing",
    "gpuNum": 8,
    "hideHardwareSpecs": false,
    "memoryGiB": 1152,
    "name": "ml.p4de.24xlarge",
    "vcpuNum": 96
   }
  ],
  "instance_type": "ml.g5.2xlarge",
  "kernelspec": {
   "display_name": "Python 3 (Data Science 3.0)",
   "language": "python",
   "name": "python3__SAGEMAKER_INTERNAL__arn:aws:sagemaker:us-east-1:081325390199:image/sagemaker-data-science-310-v1"
  },
  "language_info": {
   "codemirror_mode": {
    "name": "ipython",
    "version": 3
   },
   "file_extension": ".py",
   "mimetype": "text/x-python",
   "name": "python",
   "nbconvert_exporter": "python",
   "pygments_lexer": "ipython3",
   "version": "3.10.6"
  }
 },
 "nbformat": 4,
 "nbformat_minor": 5
}
